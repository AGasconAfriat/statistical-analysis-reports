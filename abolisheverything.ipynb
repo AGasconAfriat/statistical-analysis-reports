{
 "cells": [
  {
   "cell_type": "markdown",
   "id": "5ed33a77-5151-45cc-ab99-6a0f631e71ce",
   "metadata": {},
   "source": [
    "# Abolish Everything!: Fairness in Ratings\n",
    "\n",
    "## Introduction\n",
    "\n",
    "[**Abolish Everything!**](https://nebula.tv/abolish) is a comedy show streaming on Nebula. The platform describes the show thusly: *On Abolish Everything!, comedian-abolitionists roast a pet peeve they want banned from society, while a panel of improvisers dubbed “The Political Establishment” argue on behalf of the status quo. The audience chooses their champion each episode, each of whom will come back to compete in the season finale.*\n",
    "\n",
    "The formula of each episode is the following:\n",
    "* The host, Chandler Dean, introduces the show and presents eight invited comedians, four of them as \"abolitionists\" and four of them as \"political establishment members\". (For the finale, there are instead eight \"abolitionists\".)\n",
    "* Chandler Dean, standing in front of a lectern, next to a screen, gives a 5-minute comedic presentation about something he would like to \"abolish\".\n",
    "* The \"political establishment\" and Chandler Dean banter for 5 minutes about his presentation’s subject.\n",
    "* Chandler Dean introduces a guest \"abolitionist\", who gives their own 5-minute presentation followed by 5 minutes of banter with the \"political establishment\". This is repeated until every \"abolitionist\" has had their turn.\n",
    "* All \"abolitionists\" appear in front of the audience and Chandler Dean asks the audience to select their champion.\n",
    "* The audience’s two top choices are determined by the volume of their clapping and cheering for each \"abolitionist\".\n",
    "* The audience is asked to clap and cheer again for their two top choices. The winner is determined by the volume of their clapping and cheering. On every episode except the finale, the winner is invited to the finale."
   ]
  },
  {
   "cell_type": "markdown",
   "id": "e8c4a714-eb1b-4a7f-ad08-0b638395d40d",
   "metadata": {},
   "source": [
    "While watching the show, I wondered if this way of selecting a winner was fair. My main concern was that the order of presentations would affect the audience’s selection. Would the first presentation have a bigger impact on them? With the latest presentations fresher in their memories, would audience members be more likely to select one of the last two \"abolitionists\" as their champion? Now that the finale has been released, I decided to check what the evidence says."
   ]
  },
  {
   "cell_type": "markdown",
   "id": "588dcea4-ca62-4e1c-8b7b-96cabcca2960",
   "metadata": {},
   "source": [
    "My **hypothesis** is the following: **the odds of a given abolitionist being declared the winner of an episode of Abolish Everything! depends on the order in which the presentations where given**.\n",
    "\n",
    "You may read the *Data* and *Testing the Null Hypothesis* sections if you are interested in the details or go directly to the [*Results*](#results) section where I discuss my findings."
   ]
  },
  {
   "cell_type": "markdown",
   "id": "676b642a-00b9-4879-b533-e6c51b4aabee",
   "metadata": {
    "jp-MarkdownHeadingCollapsed": true
   },
   "source": [
    "## Data"
   ]
  },
  {
   "cell_type": "markdown",
   "id": "d4b41fc4-27fa-40f5-b8d5-18846566174b",
   "metadata": {},
   "source": [
    "Here is a list of the episodes, subjects, abolitionists, runner-ups and winners:\n",
    "\n",
    "* **Episode 1** speakerphones (Alice Morales), people not holding doors open (Liz Hynes), varmints (Ben Doyle, runner-up), answering \"what’s up?\" with \"not much\" (Ikechukwu Ufomadu, winner)\n",
    "* **Episode 2** beeps (Annie Rauwerda, winner), stretching (Kyle Gordon), not wishing people happy birthday at their birthday party (Rima Parikh), dentistry (Adam Chase, runner-up)\n",
    "* **Episode 3** national athems at sporting events (Amy Muller, winner), Cybertrucks (Randall Otis, runner-up), her boyfriend wanting to name her kid Jazz (Chan Bennett), harmful porn (Dan Toomey)\n",
    "* **Episode 4** confidence (Josh Gondelman), planes (Ena Da, runner-up), Liquid Death (Jeremy Kaplowitz), \"getting involved in hoopla\" (Augusta Chapman, winner)\n",
    "* **Episode 5** English (Lucas Arnold), slow walkers (Maggie Mae Fish), Tiktok couples (Vannessa Jackson, winner), his girlfriend telling him to turn off the big light (Jonathan van Halem, runner-up)\n",
    "* **Episode 6** hot medical doctors (Sila Pulh), sunscreen (Dorian Debose, runner-up), lecterns (Matt Krol), mascots that are people (Maeve Dunigan)\n",
    "* **Episode 7** her twin sister also having a stroke (Kenice Mobley), reaction creators (Foreign Man in a Foreign Land), Meryl Streep naming her daughter Mamie (Henry Block, winner), Uber drivers slamming his penis in car doors for playing the harmonica (Ryan Ciecwisz, runner-up)\n",
    "* **Episode 8** sports betting except for himself (Michael Kandel), men not looking for a serious relationship kissing them on the forehead (Carson Olshansky), not letting him buy unnecessary school supplies from Staples (Graham Techler, runner-up), corporeal forms (Charu Sinha, winner)\n",
    "* **Finale** being too cool (Augusta Chapman), only taking a little piece of cake at a party (Amy Muller), young adults sections in bookstore (Vannessa Jackson),  Earth’s moon (Ikechukwu Ufomadu), songs containing instructions (Henri Block), acronyms and initialisms (Annie Rauwerda), cars (Charu Sinha, runner-up), winging it (Maeve Dunigan, winner)\n",
    "\n",
    "I will create a DataFrame to store the data relevant to this analysis."
   ]
  },
  {
   "cell_type": "code",
   "execution_count": 84,
   "id": "5bf85c87-93f2-49e2-ab28-4bf7528fd9bc",
   "metadata": {},
   "outputs": [],
   "source": [
    "# Import the necessary libraries\n",
    "import scipy.stats as stats\n",
    "import numpy as np\n",
    "import pandas as pd\n",
    "import matplotlib.pyplot as plt"
   ]
  },
  {
   "cell_type": "code",
   "execution_count": 86,
   "id": "4f2eaf66-8a8a-4640-b602-7e5db47b1851",
   "metadata": {},
   "outputs": [
    {
     "data": {
      "text/html": [
       "<div>\n",
       "<style scoped>\n",
       "    .dataframe tbody tr th:only-of-type {\n",
       "        vertical-align: middle;\n",
       "    }\n",
       "\n",
       "    .dataframe tbody tr th {\n",
       "        vertical-align: top;\n",
       "    }\n",
       "\n",
       "    .dataframe thead th {\n",
       "        text-align: right;\n",
       "    }\n",
       "</style>\n",
       "<table border=\"1\" class=\"dataframe\">\n",
       "  <thead>\n",
       "    <tr style=\"text-align: right;\">\n",
       "      <th></th>\n",
       "      <th>episode</th>\n",
       "      <th>abolitionists</th>\n",
       "      <th>runner-up</th>\n",
       "      <th>winner</th>\n",
       "    </tr>\n",
       "  </thead>\n",
       "  <tbody>\n",
       "    <tr>\n",
       "      <th>0</th>\n",
       "      <td>1</td>\n",
       "      <td>4</td>\n",
       "      <td>3</td>\n",
       "      <td>4</td>\n",
       "    </tr>\n",
       "    <tr>\n",
       "      <th>1</th>\n",
       "      <td>2</td>\n",
       "      <td>4</td>\n",
       "      <td>4</td>\n",
       "      <td>1</td>\n",
       "    </tr>\n",
       "    <tr>\n",
       "      <th>2</th>\n",
       "      <td>3</td>\n",
       "      <td>4</td>\n",
       "      <td>2</td>\n",
       "      <td>1</td>\n",
       "    </tr>\n",
       "    <tr>\n",
       "      <th>3</th>\n",
       "      <td>4</td>\n",
       "      <td>4</td>\n",
       "      <td>2</td>\n",
       "      <td>4</td>\n",
       "    </tr>\n",
       "    <tr>\n",
       "      <th>4</th>\n",
       "      <td>5</td>\n",
       "      <td>4</td>\n",
       "      <td>4</td>\n",
       "      <td>3</td>\n",
       "    </tr>\n",
       "    <tr>\n",
       "      <th>5</th>\n",
       "      <td>6</td>\n",
       "      <td>4</td>\n",
       "      <td>2</td>\n",
       "      <td>4</td>\n",
       "    </tr>\n",
       "    <tr>\n",
       "      <th>6</th>\n",
       "      <td>7</td>\n",
       "      <td>4</td>\n",
       "      <td>4</td>\n",
       "      <td>3</td>\n",
       "    </tr>\n",
       "    <tr>\n",
       "      <th>7</th>\n",
       "      <td>8</td>\n",
       "      <td>4</td>\n",
       "      <td>3</td>\n",
       "      <td>4</td>\n",
       "    </tr>\n",
       "    <tr>\n",
       "      <th>8</th>\n",
       "      <td>9</td>\n",
       "      <td>8</td>\n",
       "      <td>7</td>\n",
       "      <td>8</td>\n",
       "    </tr>\n",
       "  </tbody>\n",
       "</table>\n",
       "</div>"
      ],
      "text/plain": [
       "   episode  abolitionists  runner-up  winner\n",
       "0        1              4          3       4\n",
       "1        2              4          4       1\n",
       "2        3              4          2       1\n",
       "3        4              4          2       4\n",
       "4        5              4          4       3\n",
       "5        6              4          2       4\n",
       "6        7              4          4       3\n",
       "7        8              4          3       4\n",
       "8        9              8          7       8"
      ]
     },
     "execution_count": 86,
     "metadata": {},
     "output_type": "execute_result"
    }
   ],
   "source": [
    "data = {\n",
    "    \"episode\": [1, 2, 3, 4, 5, 6, 7, 8, 9], #episode 9 is listed as \"finale\" on Nebula\n",
    "    \"abolitionists\": [4, 4, 4, 4, 4, 4, 4, 4, 8],\n",
    "    \"runner-up\":[3, 4, 2, 2, 4, 2, 4, 3, 7],\n",
    "    \"winner\": [4, 1, 1, 4, 3, 4, 3, 4, 8] #corresponds to the number of the presenter who won, starting from 1\n",
    "}\n",
    "df = pd.DataFrame(data)\n",
    "df"
   ]
  },
  {
   "cell_type": "markdown",
   "id": "0719457a-a0ee-4896-83e9-c86ada53553b",
   "metadata": {
    "jp-MarkdownHeadingCollapsed": true
   },
   "source": [
    "## Testing the Null Hypothesis"
   ]
  },
  {
   "cell_type": "markdown",
   "id": "36becac7-63fc-420d-802b-8bc43970221c",
   "metadata": {
    "jp-MarkdownHeadingCollapsed": true
   },
   "source": [
    "### Establishing the Null Hypothesis, Significance Level and Test\n",
    "\n",
    "In order to determine if my hypothesis that **the odds of a given abolitionist being declared the winner of an episode of Abolish Everything! depends on the order in which the presentations where given** is correct, I will enunciate a [null hypothesis](https://researchbasics.education.uconn.edu/null-and-alternative-hypotheses/) and attempt to disprove it.\n",
    "\n",
    "Null hypothesis: **the odds of a given abolitionist being declared the winner of an episode are not affected by the order in which the presentations where given**.\n",
    "\n",
    "The **significance level** (α, alpha) of an hypothesis test is set depending on the field of study and the acceptable risk of rejecting a correct null hypothesis. For instance, medical studies typically set very small significance levels.\n",
    "\n",
    "Considering the low risk posed by incorrectly accusing a comedy show’s manner of declaring a winner of being unfair and the difficulty of attaining a low p-value with a very small sample set, I am setting the significance level at **0.85** (85%). In other words, I will reject my null hypothesis if the **p-value** from the test is **inferior or equal to 0.15**."
   ]
  },
  {
   "cell_type": "markdown",
   "id": "51709871-8b0c-4b06-9410-7071b7197b00",
   "metadata": {},
   "source": [
    "Many statistical tests exist. Since my null hypothesis implies that every single position in the presentation order should correspond to the same odds of winning, I will test it the same way I would test the hypothesis that a dice is perfectly balanced: with a **chi-squared test**."
   ]
  },
  {
   "cell_type": "markdown",
   "id": "26297478-f331-480b-ac58-e9d034ae5aa1",
   "metadata": {},
   "source": [
    "### Adjusting for the Finale"
   ]
  },
  {
   "cell_type": "markdown",
   "id": "115c28a7-fb9b-4889-809c-cca720305628",
   "metadata": {},
   "source": [
    "The season finale featured 8 presentations instead of 4. To match the rest of the dataset, I have decided to divide the finale’s presentations into pairs. The first two presentations are pair 1, the next two are pair 2, and so on. Therefore the winner and runner-up values of that particular episode can be integer values from 1 to 4."
   ]
  },
  {
   "cell_type": "code",
   "execution_count": 143,
   "id": "4e66c67b-c3ac-4243-b3cc-4306e2fea401",
   "metadata": {},
   "outputs": [
    {
     "data": {
      "text/html": [
       "<div>\n",
       "<style scoped>\n",
       "    .dataframe tbody tr th:only-of-type {\n",
       "        vertical-align: middle;\n",
       "    }\n",
       "\n",
       "    .dataframe tbody tr th {\n",
       "        vertical-align: top;\n",
       "    }\n",
       "\n",
       "    .dataframe thead th {\n",
       "        text-align: right;\n",
       "    }\n",
       "</style>\n",
       "<table border=\"1\" class=\"dataframe\">\n",
       "  <thead>\n",
       "    <tr style=\"text-align: right;\">\n",
       "      <th></th>\n",
       "      <th>episode</th>\n",
       "      <th>abolitionists</th>\n",
       "      <th>runner-up</th>\n",
       "      <th>winner</th>\n",
       "    </tr>\n",
       "  </thead>\n",
       "  <tbody>\n",
       "    <tr>\n",
       "      <th>0</th>\n",
       "      <td>1</td>\n",
       "      <td>4</td>\n",
       "      <td>3</td>\n",
       "      <td>4</td>\n",
       "    </tr>\n",
       "    <tr>\n",
       "      <th>1</th>\n",
       "      <td>2</td>\n",
       "      <td>4</td>\n",
       "      <td>4</td>\n",
       "      <td>1</td>\n",
       "    </tr>\n",
       "    <tr>\n",
       "      <th>2</th>\n",
       "      <td>3</td>\n",
       "      <td>4</td>\n",
       "      <td>2</td>\n",
       "      <td>1</td>\n",
       "    </tr>\n",
       "    <tr>\n",
       "      <th>3</th>\n",
       "      <td>4</td>\n",
       "      <td>4</td>\n",
       "      <td>2</td>\n",
       "      <td>4</td>\n",
       "    </tr>\n",
       "    <tr>\n",
       "      <th>4</th>\n",
       "      <td>5</td>\n",
       "      <td>4</td>\n",
       "      <td>4</td>\n",
       "      <td>3</td>\n",
       "    </tr>\n",
       "    <tr>\n",
       "      <th>5</th>\n",
       "      <td>6</td>\n",
       "      <td>4</td>\n",
       "      <td>2</td>\n",
       "      <td>4</td>\n",
       "    </tr>\n",
       "    <tr>\n",
       "      <th>6</th>\n",
       "      <td>7</td>\n",
       "      <td>4</td>\n",
       "      <td>4</td>\n",
       "      <td>3</td>\n",
       "    </tr>\n",
       "    <tr>\n",
       "      <th>7</th>\n",
       "      <td>8</td>\n",
       "      <td>4</td>\n",
       "      <td>3</td>\n",
       "      <td>4</td>\n",
       "    </tr>\n",
       "    <tr>\n",
       "      <th>8</th>\n",
       "      <td>9</td>\n",
       "      <td>8</td>\n",
       "      <td>4</td>\n",
       "      <td>4</td>\n",
       "    </tr>\n",
       "  </tbody>\n",
       "</table>\n",
       "</div>"
      ],
      "text/plain": [
       "   episode  abolitionists  runner-up  winner\n",
       "0        1              4          3       4\n",
       "1        2              4          4       1\n",
       "2        3              4          2       1\n",
       "3        4              4          2       4\n",
       "4        5              4          4       3\n",
       "5        6              4          2       4\n",
       "6        7              4          4       3\n",
       "7        8              4          3       4\n",
       "8        9              8          4       4"
      ]
     },
     "execution_count": 143,
     "metadata": {},
     "output_type": "execute_result"
    }
   ],
   "source": [
    "def pair(pres_order):\n",
    "    return (pres_order + 1) // 2\n",
    "\n",
    "df['runner-up'] = df.apply(lambda row: pair(row['runner-up']) if row['abolitionists'] == 8 else row['runner-up'], axis=1)\n",
    "df['winner'] = df.apply(lambda row: pair(row['winner']) if row['abolitionists'] == 8 else row['winner'], axis=1)\n",
    "df"
   ]
  },
  {
   "cell_type": "markdown",
   "id": "4dda7bad-13ad-4d33-bd18-716645b78227",
   "metadata": {},
   "source": [
    "### Test"
   ]
  },
  {
   "cell_type": "markdown",
   "id": "ab8ee02a-4f2e-4b10-9cd7-5de3a20fef76",
   "metadata": {},
   "source": [
    "I will start by creating a Numpy array listing the number of winners per position in the presentation order."
   ]
  },
  {
   "cell_type": "code",
   "execution_count": 161,
   "id": "9341641f-8fc2-43bb-97ac-36a7fd5c7603",
   "metadata": {},
   "outputs": [],
   "source": [
    "num_pos = 4 # number of possible positions"
   ]
  },
  {
   "cell_type": "code",
   "execution_count": 171,
   "id": "062d1e44-5597-44d0-8eba-380b39cab1c2",
   "metadata": {},
   "outputs": [
    {
     "data": {
      "text/plain": [
       "array([5, 2, 2], dtype=int64)"
      ]
     },
     "execution_count": 171,
     "metadata": {},
     "output_type": "execute_result"
    }
   ],
   "source": [
    "winner_counts = df['winner'].value_counts().to_numpy()\n",
    "winner_counts"
   ]
  },
  {
   "cell_type": "markdown",
   "id": "9d69abbb-dd2f-4ac7-bf1f-1df4dc9222b7",
   "metadata": {},
   "source": [
    "I’ll add a zero to the array for any position that never won a show."
   ]
  },
  {
   "cell_type": "code",
   "execution_count": 173,
   "id": "a58be956-b89f-419e-8450-c5b21205f3c3",
   "metadata": {},
   "outputs": [
    {
     "data": {
      "text/plain": [
       "array([5, 2, 2, 0], dtype=int64)"
      ]
     },
     "execution_count": 173,
     "metadata": {},
     "output_type": "execute_result"
    }
   ],
   "source": [
    "winner_counts = np.pad(winner_counts, (0, max(0, num_pos - len(winner_counts))), mode='constant', constant_values=0)\n",
    "winner_counts"
   ]
  },
  {
   "cell_type": "markdown",
   "id": "a82922d4-20d0-4227-b1f6-91498c0c9b62",
   "metadata": {},
   "source": [
    "I will need to compare these counts to the expected counts (expected counts correspond to a situation in which the null hypothesis perfectly fits the data), so I’ll create a Numpy array for them."
   ]
  },
  {
   "cell_type": "code",
   "execution_count": 186,
   "id": "a88c63a1-2dca-4e22-a15a-282f3611870d",
   "metadata": {},
   "outputs": [
    {
     "data": {
      "text/plain": [
       "[2.25, 2.25, 2.25, 2.25]"
      ]
     },
     "execution_count": 186,
     "metadata": {},
     "output_type": "execute_result"
    }
   ],
   "source": [
    "expected_winner_counts = ([winner_counts.sum() * (1 / num_pos)]) * num_pos\n",
    "expected_winner_counts"
   ]
  },
  {
   "cell_type": "markdown",
   "id": "6d9a573b-2552-4868-b77b-b44099db1248",
   "metadata": {},
   "source": [
    "Now, I can perform a **chi-squared goodness of fit test**."
   ]
  },
  {
   "cell_type": "code",
   "execution_count": 195,
   "id": "93077b1a-59ae-4d1a-ad8c-ec1a8fa86629",
   "metadata": {},
   "outputs": [
    {
     "name": "stdout",
     "output_type": "stream",
     "text": [
      "Chi-square statistic: 5.6667\n",
      "P-value: 0.1290\n"
     ]
    }
   ],
   "source": [
    "winner_chi2, winner_p = stats.chisquare(winner_counts, expected_winner_counts)\n",
    "\n",
    "print(f\"Chi-square statistic: {winner_chi2:.4f}\")\n",
    "print(f\"P-value: {winner_p:.4f}\")"
   ]
  },
  {
   "cell_type": "markdown",
   "id": "9bdbd9b5-d194-4557-b22b-81638a6693cd",
   "metadata": {},
   "source": [
    "Since I set my significance level to 0.85 and 1 - 0.85 is equal to 0.15, which is larger than my p-value of 0.1290, **I** can **reject** my **null hypothesis** and thus conclude that my initial hypothesis, \"**the odds of a given abolitionist being declared the winner of an episode of Abolish Everything! depends on the order in which the presentations where given**\", is correct."
   ]
  },
  {
   "cell_type": "markdown",
   "id": "de3cae38-0c16-4722-8ff5-9b6dffb50002",
   "metadata": {},
   "source": [
    "### Runner-Up Test"
   ]
  },
  {
   "cell_type": "markdown",
   "id": "403b1175-219d-41a3-9b12-eb2e16ff8c07",
   "metadata": {},
   "source": [
    "Let’s try the same thing for runner-ups.\n",
    "\n",
    "My hypothesis: \"the odds of a given abolitionist being the runner-up to the winner in an episode of Abolish Everything! depends on the order in which the presentations where given\"\n",
    "\n",
    "The null hypothesis: \"the odds of a given abolitionist being declared the winner of an episode are not affected by the order in which the presentations where given\""
   ]
  },
  {
   "cell_type": "code",
   "execution_count": 208,
   "id": "5459262f-686e-4cd1-855c-64e7f8a27728",
   "metadata": {},
   "outputs": [
    {
     "data": {
      "text/plain": [
       "array([4, 3, 2, 0], dtype=int64)"
      ]
     },
     "execution_count": 208,
     "metadata": {},
     "output_type": "execute_result"
    }
   ],
   "source": [
    "ru_counts = df['runner-up'].value_counts().to_numpy()\n",
    "ru_counts = np.pad(ru_counts, (0, max(0, num_pos - len(ru_counts))), mode='constant', constant_values=0)\n",
    "ru_counts"
   ]
  },
  {
   "cell_type": "code",
   "execution_count": 212,
   "id": "e8a67ceb-bc93-4bcd-8e64-f57748835e6d",
   "metadata": {},
   "outputs": [
    {
     "name": "stdout",
     "output_type": "stream",
     "text": [
      "Chi-square statistic: 3.8889\n",
      "P-value: 0.2737\n"
     ]
    }
   ],
   "source": [
    "expected_ru_counts = ([ru_counts.sum() * (1 / num_pos)]) * num_pos\n",
    "\n",
    "ru_chi2, ru_p = stats.chisquare(ru_counts, expected_ru_counts)\n",
    "\n",
    "print(f\"Chi-square statistic: {ru_chi2:.4f}\")\n",
    "print(f\"P-value: {ru_p:.4f}\")"
   ]
  },
  {
   "cell_type": "markdown",
   "id": "64c5d359-67a9-421e-a74b-31911f6104ff",
   "metadata": {},
   "source": [
    "The p-value of 0.2737 is much higher than 0.15, which means that I can not reject the null hypothesis."
   ]
  },
  {
   "cell_type": "markdown",
   "id": "c8ea6bf6-22de-4bc6-8c16-7252b944b87f",
   "metadata": {},
   "source": [
    "## Results"
   ]
  },
  {
   "cell_type": "markdown",
   "id": "482b06d0-49a4-40ed-9b55-fa126f3f7a14",
   "metadata": {},
   "source": [
    "### Test Results\n",
    "\n",
    "I have determined that my hypothesis is correct, with a p-value of 0.1290. **The odds of winning Abolish Everything! depend on the order of presentations.**"
   ]
  },
  {
   "cell_type": "markdown",
   "id": "1d501190-9c74-4729-8fdf-8651fa4db08f",
   "metadata": {},
   "source": [
    "### Possible Biases\n",
    "\n",
    "1. I picked a relatively **low significance level**. I felt like I had to, because of the **small sample size**. Still, a p-value of 0.1290 indicates that there is a 12.90% chance that the game is completely fair and that the first season just happened to randomly see more abolitionists who presented last win.\n",
    "2. It is possible that, rather than the odds of winning depending on the order of presentations, **both** the **factors** I based my analysis on, the odds of winning and the order of presentation are **dependant on a third factor I did not take into account**.\n",
    "3. My **personal opinion** may have affected my perception of the results of my statistical analysis. In fact, this entire report may or may not be my way of explaining why my favorite presentations did not always win their respective shows when they CLEARLY SHOULD HAVE. :P"
   ]
  },
  {
   "cell_type": "markdown",
   "id": "3239db5c-a6f3-4a5a-80d6-dc20db5a2d82",
   "metadata": {},
   "source": [
    "### Suggestion for a Different and Hopefully Fairer System\n",
    "\n",
    "I believe that evaluating each candidate after their presentation and banter with the establishment could make the show fairer. A way of doing this would be to provide a link and/or project a QR code and ask the attendance to access it to rate the abolitionist. This could happen on a dedicated app or website or even on an existing online polling or form tool, like Google Forms."
   ]
  },
  {
   "cell_type": "markdown",
   "id": "10b58f76-9644-4fa5-8a78-26025d37ac9f",
   "metadata": {},
   "source": [
    "# Conclusion"
   ]
  },
  {
   "cell_type": "markdown",
   "id": "cc6cdabc-5b62-4f49-bd94-b50b4dbb34e3",
   "metadata": {},
   "source": [
    "The team behind Abolish Everything! should consider changing their way of determining winners as there is a high chance that their current method is unfair. That said, wether they do or not, I encourage fans of stand-up comedy who are subscribed or are thinking of subscribing to Nebula to [check out the show](https://nebula.tv/abolish).\n",
    "\n",
    "I am thankful for the moments of laughter it procured and the comedians it made me discover. I intend to watch season 2."
   ]
  },
  {
   "cell_type": "markdown",
   "id": "c930b17a-dcb4-47a8-9421-151df5bffbcf",
   "metadata": {},
   "source": [
    "# References"
   ]
  },
  {
   "cell_type": "markdown",
   "id": "ff0d7b82-58d5-4971-ad04-1caae718ffb5",
   "metadata": {},
   "source": [
    "* [Abolish Everything! on Nebula](https://nebula.tv/abolish)\n",
    "* [Goodness of fit on Wikipedia](https://en.wikipedia.org/wiki/Goodness_of_fit)\n",
    "* [Null and Alternative Hypotheses on Educational Research Basics by Del Siegle](https://researchbasics.education.uconn.edu/null-and-alternative-hypotheses/)"
   ]
  }
 ],
 "metadata": {
  "kernelspec": {
   "display_name": "Python [conda env:base] *",
   "language": "python",
   "name": "conda-base-py"
  },
  "language_info": {
   "codemirror_mode": {
    "name": "ipython",
    "version": 3
   },
   "file_extension": ".py",
   "mimetype": "text/x-python",
   "name": "python",
   "nbconvert_exporter": "python",
   "pygments_lexer": "ipython3",
   "version": "3.11.7"
  }
 },
 "nbformat": 4,
 "nbformat_minor": 5
}
